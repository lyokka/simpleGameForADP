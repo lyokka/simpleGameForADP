{
 "cells": [
  {
   "cell_type": "code",
   "execution_count": 1,
   "metadata": {
    "collapsed": true
   },
   "outputs": [],
   "source": [
    "import pandas as pd"
   ]
  },
  {
   "cell_type": "code",
   "execution_count": 2,
   "metadata": {
    "collapsed": true
   },
   "outputs": [],
   "source": [
    "data = pd.read_csv(\"sample.csv\")"
   ]
  },
  {
   "cell_type": "code",
   "execution_count": 3,
   "metadata": {
    "collapsed": true
   },
   "outputs": [],
   "source": [
    "data.columns = [\"u\",\"target\",\"y\",\"x\"]"
   ]
  },
  {
   "cell_type": "code",
   "execution_count": 4,
   "metadata": {
    "collapsed": true
   },
   "outputs": [],
   "source": [
    "import numpy as np\n",
    "np.set_printoptions(precision=4)\n",
    "np.set_printoptions(suppress=True)"
   ]
  },
  {
   "cell_type": "code",
   "execution_count": 5,
   "metadata": {
    "collapsed": true
   },
   "outputs": [],
   "source": [
    "from scipy.linalg import *\n",
    "from numpy.linalg import matrix_rank"
   ]
  },
  {
   "cell_type": "code",
   "execution_count": 6,
   "metadata": {
    "collapsed": true
   },
   "outputs": [],
   "source": [
    "A = np.matrix([[1]])\n",
    "B = np.matrix([[1]])\n",
    "Q = np.eye(1)*0.01\n",
    "R = 1\n",
    "K0 = np.zeros((1,1))"
   ]
  },
  {
   "cell_type": "code",
   "execution_count": 7,
   "metadata": {
    "collapsed": true
   },
   "outputs": [],
   "source": [
    "target = 0.5"
   ]
  },
  {
   "cell_type": "code",
   "execution_count": 8,
   "metadata": {
    "collapsed": true
   },
   "outputs": [],
   "source": [
    "N = 200\n",
    "\n",
    "x = data.y[:N+1].values.reshape(1,-1)\n",
    "y = np.zeros((1, N+1)) # n * (N+1)\n",
    "u = data.u[:N+1]\n",
    "\n",
    "# x = np.zeros((1, N+1)) # n * (N+1)\n",
    "# u = np.zeros(N)"
   ]
  },
  {
   "cell_type": "code",
   "execution_count": 9,
   "metadata": {
    "collapsed": true
   },
   "outputs": [],
   "source": [
    "# for i in range(N):\n",
    "#     x[:,i] = y[:,i] - target\n",
    "#     # u[i] = np.random.uniform() * 0.01 # default : 0.01\n",
    "#     u[i] = -x[:,i]\n",
    "#     y[:,i+1] = A.dot(y[:,i]).reshape(1,1) + B*u[i]"
   ]
  },
  {
   "cell_type": "code",
   "execution_count": 10,
   "metadata": {},
   "outputs": [
    {
     "data": {
      "image/png": "[encoded data removed]",
      "text/plain": [
       "<matplotlib.figure.Figure at 0x7f48dc49b2e8>"
      ]
     },
     "metadata": {},
     "output_type": "display_data"
    }
   ],
   "source": [
    "import matplotlib.pyplot as plt\n",
    "plt.plot(y[0,:])\n",
    "plt.show()"
   ]
  },
  {
   "cell_type": "code",
   "execution_count": 11,
   "metadata": {
    "collapsed": true
   },
   "outputs": [],
   "source": [
    "# P_1 : n * n\n",
    "P_1 = np.zeros((1, 1)) \n",
    "\n",
    "# interation time\n",
    "index = 1\n",
    "\n",
    "errorK = []\n",
    "errorH = []\n",
    "INDEX = []\n",
    "\n",
    "# H matrix: n+m+l * n+m+l\n",
    "H = np.zeros((2, 2))\n",
    "\n",
    "# H33 matrix: n * n\n",
    "H33 = np.zeros((1, 1))\n",
    "\n",
    "# H13 matrix: m * n\n",
    "H13 = np.zeros((1, 1))\n",
    "\n",
    "# H11 matrix: m * m\n",
    "H11 = np.zeros(1)\n",
    "\n",
    "# K: m * n\n",
    "K = np.zeros((1, 1))"
   ]
  },
  {
   "cell_type": "code",
   "execution_count": 13,
   "metadata": {
    "scrolled": true
   },
   "outputs": [
    {
     "name": "stdout",
     "output_type": "stream",
     "text": [
      "0.0931961982156\n",
      "0.093582348143\n",
      "0.0938992977216\n",
      "0.094159284764\n",
      "0.0943724368346\n",
      "0.0945471171783\n",
      "0.094690220018\n",
      "0.0948074204917\n",
      "0.0949033847847\n",
      "0.0949819458607\n",
      "0.0950462498038\n",
      "0.0950988772716\n",
      "0.0951419440195\n",
      "0.0951771839173\n",
      "0.095206017386\n",
      "0.0952296077337\n",
      "0.0952489074757\n",
      "0.0952646963827\n",
      "0.0952776127101\n",
      "0.0952881788151\n",
      "0.0952968221572\n",
      "0.0953038925095\n",
      "0.0953096760573\n",
      "0.0953144069448\n",
      "0.0953182767298\n",
      "0.0953214421236\n",
      "0.0953240313255\n",
      "0.0953261492081\n",
      "0.0953278815595\n",
      "0.0953292985555\n",
      "0.0953304575998\n",
      "0.0953314056482\n",
      "0.0953321811094\n",
      "0.095332815401\n",
      "0.0953333342219\n",
      "0.0953337585925\n",
      "0.0953341057072\n",
      "0.09533438963\n",
      "0.0953346218647\n",
      "0.0953348118212\n",
      "0.0953349671961\n",
      "0.0953350942849\n",
      "0.0953351982371\n",
      "0.0953352832648\n",
      "0.095335352813\n",
      "0.0953354097\n",
      "0.0953354562306\n",
      "0.0953354942902\n",
      "0.0953355254211\n",
      "0.0953355508845\n",
      "0.0953355717123\n"
     ]
    }
   ],
   "source": [
    "c = 0# b,m\n",
    "while True:\n",
    "    X = np.zeros((N-2*10+1, 3))\n",
    "    Y = np.zeros(N-2*10+1)\n",
    "    c += 1    \n",
    "    for j in range(10-1, N-10): # 10 is a constant\n",
    "        temp = np.hstack((u[j], x[:,j])).reshape(1,2) # n+m\n",
    "        temp1 = kron(temp, temp)\n",
    "        ind = [0,1,3]\n",
    "        psi=temp1[0][ind];\n",
    "        phi = x[:,j+1].dot((H33 - H13.transpose() * (1/(R + H11)).reshape(-1,1).dot(H13.reshape(1,-1)))).dot(x[:,j+1])\n",
    "        \n",
    "        X[j-9,:] = psi\n",
    "        Y[j-9] = x[:,j+1].dot(Q).dot(x[:,j+1])+phi   \n",
    "    # least square solution\n",
    "    solution = lstsq(X, Y) # linear regression,\n",
    "    pp = solution[0]\n",
    "    residual = solution[1]\n",
    "    # print(np.linalg.matrix_rank(X))\n",
    "    # if rank == 21\n",
    "    # else:\n",
    "    #    need larger N    \n",
    "    l = 0\n",
    "    # temp5 : n+m+l * n+m+l\n",
    "    temp5 = np.zeros((2, 2))\n",
    "    for m in range(2):\n",
    "        for n in range(m, 2):\n",
    "            temp5[m, n] = pp[l]/2\n",
    "            l += 1\n",
    "    \n",
    "    H = temp5 + temp5.transpose() \n",
    "    \n",
    "    H33 = H[1, 1] # \n",
    "    H13 = H[0, 1] #\n",
    "    H11 = H[0, 0] # m * m\n",
    "    K = 1/(R + H11) * H13 # inv\n",
    "    print(K)\n",
    "    if (c >50):\n",
    "        break"
   ]
  },
  {
   "cell_type": "code",
   "execution_count": null,
   "metadata": {
    "collapsed": true
   },
   "outputs": [],
   "source": []
  }
 ],
 "metadata": {
  "kernelspec": {
   "display_name": "py3",
   "language": "python",
   "name": "py3"
  },
  "language_info": {
   "codemirror_mode": {
    "name": "ipython",
    "version": 3
   },
   "file_extension": ".py",
   "mimetype": "text/x-python",
   "name": "python",
   "nbconvert_exporter": "python",
   "pygments_lexer": "ipython3",
   "version": "3.6.3"
  }
 },
 "nbformat": 4,
 "nbformat_minor": 2
}
