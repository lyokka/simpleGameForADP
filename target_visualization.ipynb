{
 "cells": [
  {
   "cell_type": "code",
   "execution_count": 1,
   "metadata": {
    "collapsed": true
   },
   "outputs": [],
   "source": [
    "sample = torch.Tensor(324, 4)\n",
    "\n",
    "for i = 1, 324 do\n",
    "    a = torch.load(\"sample_low/sample_low_\" .. i .. \".t7\")\n",
    "    sample[{{i}, {1}}] = a.u\n",
    "    sample[{{i}, {2}}] = a.target\n",
    "    sample[{{i}, {3}}] = a.y\n",
    "    sample[{{i}, {4}}] = a.x\n",
    "end"
   ]
  },
  {
   "cell_type": "code",
   "execution_count": 2,
   "metadata": {
    "collapsed": true
   },
   "outputs": [],
   "source": [
    "require \"gnuplot\";"
   ]
  },
  {
   "cell_type": "code",
   "execution_count": 3,
   "metadata": {},
   "outputs": [
    {
     "data": {
      "text/plain": [
       "\n"
      ]
     },
     "execution_count": 3,
     "metadata": {},
     "output_type": "execute_result"
    }
   ],
   "source": [
    "gnuplot.plot(sample[{{},{2}}])"
   ]
  },
  {
   "cell_type": "code",
   "execution_count": 4,
   "metadata": {
    "collapsed": true
   },
   "outputs": [],
   "source": [
    "local out = assert(io.open(\"./sample.csv\", \"w\")) -- open a file for serialization\n",
    "\n",
    "splitter = \",\"\n",
    "for i=1,sample:size(1) do\n",
    "    for j=1,sample:size(2) do\n",
    "        out:write(sample[i][j])\n",
    "        if j == sample:size(2) then\n",
    "            out:write(\"\\n\")\n",
    "        else\n",
    "            out:write(splitter)\n",
    "        end\n",
    "    end\n",
    "end\n",
    "\n",
    "out:close()"
   ]
  },
  {
   "cell_type": "code",
   "execution_count": null,
   "metadata": {
    "collapsed": true
   },
   "outputs": [],
   "source": []
  }
 ],
 "metadata": {
  "kernelspec": {
   "display_name": "iTorch",
   "language": "lua",
   "name": "itorch"
  },
  "language_info": {
   "name": "lua",
   "version": "5.1"
  }
 },
 "nbformat": 4,
 "nbformat_minor": 2
}
